{
 "cells": [
  {
   "cell_type": "markdown",
   "id": "00bc795e",
   "metadata": {},
   "source": [
    "# Intermezo sebelum ke materi hari ini"
   ]
  },
  {
   "cell_type": "markdown",
   "id": "7558f8fc",
   "metadata": {},
   "source": [
    "## If Statement in ONE LINE (Shorthand)"
   ]
  },
  {
   "cell_type": "markdown",
   "id": "264df8f8",
   "metadata": {},
   "source": [
    "<blockquote> If statement shorthand, atau sering disebut dengan \"ternary operator,\" adalah cara singkat untuk mengevaluasi ekspresi berdasarkan kondisi tertentu dalam satu baris kode. </blockquote>"
   ]
  },
  {
   "cell_type": "markdown",
   "id": "6bfd2f19",
   "metadata": {},
   "source": [
    "Tapi di One Line ini tidak dapat menggunakan Elif, hanya terbatas if dan else"
   ]
  },
  {
   "cell_type": "markdown",
   "id": "a005ad5a",
   "metadata": {},
   "source": [
    "### Contoh 1:"
   ]
  },
  {
   "cell_type": "markdown",
   "id": "d48b89fa",
   "metadata": {},
   "source": [
    "Dari yang seperti ini:"
   ]
  },
  {
   "cell_type": "code",
   "execution_count": 1,
   "id": "102cef2b",
   "metadata": {},
   "outputs": [
    {
     "name": "stdout",
     "output_type": "stream",
     "text": [
      "a is greater than b\n"
     ]
    }
   ],
   "source": [
    "a,b = 10,11\n",
    "if a < b:\n",
    "    print(\"a is greater than b\")"
   ]
  },
  {
   "cell_type": "markdown",
   "id": "69860200",
   "metadata": {},
   "source": [
    "Jadi Seperti ini:"
   ]
  },
  {
   "cell_type": "code",
   "execution_count": 2,
   "id": "fe274751",
   "metadata": {},
   "outputs": [
    {
     "name": "stdout",
     "output_type": "stream",
     "text": [
      "a is greater than b\n"
     ]
    }
   ],
   "source": [
    "if a < b: print(\"a is greater than b\")"
   ]
  },
  {
   "cell_type": "markdown",
   "id": "15b1dd85",
   "metadata": {},
   "source": [
    "### Contoh 2:"
   ]
  },
  {
   "cell_type": "markdown",
   "id": "3d6d1d56",
   "metadata": {},
   "source": [
    "Dari yang seperti ini:"
   ]
  },
  {
   "cell_type": "code",
   "execution_count": 3,
   "id": "a96f74ef",
   "metadata": {},
   "outputs": [
    {
     "name": "stdout",
     "output_type": "stream",
     "text": [
      "B\n"
     ]
    }
   ],
   "source": [
    "a,b = 10,11\n",
    "if a > b:\n",
    "    print(\"a is greater than b\")\n",
    "else: \n",
    "    print(\"B\")"
   ]
  },
  {
   "cell_type": "markdown",
   "id": "eaf38bf8",
   "metadata": {},
   "source": [
    "Jadi Seperti ini:"
   ]
  },
  {
   "cell_type": "code",
   "execution_count": 4,
   "id": "74c463ff",
   "metadata": {},
   "outputs": [
    {
     "name": "stdout",
     "output_type": "stream",
     "text": [
      "B\n"
     ]
    }
   ],
   "source": [
    "print(\"A\") if a > b else print(\"B\")"
   ]
  },
  {
   "cell_type": "markdown",
   "id": "5a27305a",
   "metadata": {},
   "source": [
    "### Contoh 3:"
   ]
  },
  {
   "cell_type": "markdown",
   "id": "c1b8aa1d",
   "metadata": {},
   "source": [
    "Dari yang seperti ini:"
   ]
  },
  {
   "cell_type": "code",
   "execution_count": 13,
   "id": "868e7b13",
   "metadata": {},
   "outputs": [
    {
     "name": "stdout",
     "output_type": "stream",
     "text": [
      "Nol\n"
     ]
    }
   ],
   "source": [
    "x = 0\n",
    "if x > 0:\n",
    "    print(\"Positif\")\n",
    "elif x == 0:\n",
    "    print(\"Nol\")\n",
    "else:\n",
    "    print(\"Negatif\")"
   ]
  },
  {
   "cell_type": "markdown",
   "id": "ef70190c",
   "metadata": {},
   "source": [
    "Jadi Seperti ini:"
   ]
  },
  {
   "cell_type": "code",
   "execution_count": 15,
   "id": "a69be361",
   "metadata": {},
   "outputs": [
    {
     "name": "stdout",
     "output_type": "stream",
     "text": [
      "Nol\n"
     ]
    }
   ],
   "source": [
    "x = 0\n",
    "print(\"Positif\") if x > 0 else print(\"Nol\") if x == 0 else print(\"Negatif\")"
   ]
  },
  {
   "cell_type": "markdown",
   "id": "bbba9bed",
   "metadata": {},
   "source": [
    "## Pass Statment in Percabangan"
   ]
  },
  {
   "cell_type": "markdown",
   "id": "eeabb0eb",
   "metadata": {},
   "source": [
    "<blockquote>Pernyataan pass dalam percabangan adalah pernyataan kosong yang digunakan untuk menghindari kesalahan sintaksis saat Anda memerlukan sebuah blok kode dalam struktur percabangan (seperti if, elif, atau else), tetapi tidak ada tindakan yang perlu diambil di dalam blok tersebut.</blockquote>\n",
    "\n",
    "<blockquote>pass digunakan saat Anda ingin menulis kode yang masih belum sepenuhnya dikembangkan atau saat Anda sengaja ingin memiliki blok kosong sebagai placeholder. Ini adalah cara untuk memberikan struktur dasar dalam kode Anda tanpa harus mengimplementasikan tindakan tertentu.</blockquote>"
   ]
  },
  {
   "cell_type": "code",
   "execution_count": 22,
   "id": "236482e7",
   "metadata": {},
   "outputs": [
    {
     "name": "stdout",
     "output_type": "stream",
     "text": [
      "Anda mendapat nilai D\n",
      "Terima kasih atas usaha Anda!\n"
     ]
    }
   ],
   "source": [
    "# nilai = 70\n",
    "# nilai = 69\n",
    "nilai = 59\n",
    "\n",
    "if nilai >= 90:\n",
    "    print(\"Anda mendapat nilai A\")\n",
    "elif nilai >= 80:\n",
    "    print(\"Anda mendapat nilai B\")\n",
    "elif nilai >= 70:\n",
    "    print(\"Anda mendapat nilai C\")\n",
    "elif nilai >= 60:\n",
    "    pass # Tidak melakukan apa-apa ketika nilai di atas 60\n",
    "else:\n",
    "    print(\"Anda mendapat nilai D\")\n",
    "\n",
    "print(\"Terima kasih atas usaha Anda!\")"
   ]
  },
  {
   "cell_type": "markdown",
   "id": "16cc84c0",
   "metadata": {},
   "source": [
    "---"
   ]
  },
  {
   "cell_type": "markdown",
   "id": "45173a9d",
   "metadata": {},
   "source": [
    "# Pertemuan 4 - Nested If & Dasar Perluangan"
   ]
  },
  {
   "cell_type": "markdown",
   "id": "8104aa01",
   "metadata": {},
   "source": [
    "## If Nested"
   ]
  },
  {
   "cell_type": "markdown",
   "id": "083c12b4",
   "metadata": {},
   "source": [
    "We can also use an if statement inside of an if statement. This is known as a nested if statement.\n",
    "The rule of syntax in nested if statement is:"
   ]
  },
  {
   "cell_type": "markdown",
   "id": "e0f80b8c",
   "metadata": {},
   "source": [
    "- We can add else and elif statements to the inner if statement as required.\n",
    "- We can also insert inner if statement inside the outer else or elif statements(if they exist)\n",
    "- We can nest multiple layers of if statements.\n",
    "\n",
    "Nested IF :\n",
    "```python\n",
    "if conditionA:\n",
    "    Code here executes when 'conditionA' is True\n",
    "else:\n",
    "    Code that runs when 'conditionA' is False\n",
    "    if conditionB:\n",
    "        Code that runs when 'conditionA' is False\n",
    "        and 'conditionB' is True\n",
    "```"
   ]
  },
  {
   "cell_type": "markdown",
   "id": "f64b3637",
   "metadata": {},
   "source": [
    "contoh 1:\n",
    "<blockquote> Nested if dalam \"Menentukan suatu angka positif, negatif atau 0\" </blockquote>\n",
    "\n",
    "<b>*Flowchart nya akan seperti ini*</b>"
   ]
  },
  {
   "attachments": {
    "If%20Nested%20Flowchart.png": {
     "image/png": "[encoded data removed]"
    }
   },
   "cell_type": "markdown",
   "id": "89ce9b3a",
   "metadata": {},
   "source": [
    "![If%20Nested%20Flowchart.png](attachment:If%20Nested%20Flowchart.png)"
   ]
  },
  {
   "cell_type": "code",
   "execution_count": 10,
   "id": "2ec0d72e",
   "metadata": {},
   "outputs": [
    {
     "name": "stdout",
     "output_type": "stream",
     "text": [
      "Masukkan Angka yang ingin anda cek: 10\n",
      "Number is positive\n"
     ]
    }
   ],
   "source": [
    "number = int(input('Enter the number you want to check: '))\n",
    "\n",
    "# outer if statement\n",
    "if (number >= 0):\n",
    "    # inner if statement\n",
    "    if number == 0:\n",
    "        print('Number is 0')\n",
    "    # inner else statement\n",
    "    elif number == 7:\n",
    "        print('Number is 7')\n",
    "    else: \n",
    "        print('Number is positive')\n",
    "# outer else statement\n",
    "else:\n",
    "    print('Number is negative')"
   ]
  },
  {
   "cell_type": "markdown",
   "id": "7188a8b0",
   "metadata": {},
   "source": [
    "contoh 2:\n",
    "<blockquote> Saat kita menggunakan pernyataan Nested If, kita sering kali membuat perbandingan tambahan setelah pernyataan if biasa. Program di bawah ini adalah contohnya: </blockquote>\n",
    "\n",
    "<blockquote> Kita pertama-tama memeriksa apakah orang tersebut sudah dewasa. Lalu membuat perbandingan tambahan untuk melihat apakah dia lulus atau mendapat SIM </blockquote>"
   ]
  },
  {
   "cell_type": "code",
   "execution_count": 26,
   "id": "e5c0f6eb",
   "metadata": {},
   "outputs": [
    {
     "name": "stdout",
     "output_type": "stream",
     "text": [
      "You're 18 or older. Welcome to adulthood!\n",
      "Happy driving!\n"
     ]
    }
   ],
   "source": [
    "age = 19\n",
    "isGraduated = False\n",
    "hasLicense = True\n",
    "\n",
    "# Look if person is 18 years or older\n",
    "if age >= 18:\n",
    "    print(\"You're 18 or older. Welcome to adulthood!\")\n",
    "    if isGraduated:\n",
    "        print('Congratulations with your graduation!')\n",
    "    if hasLicense:\n",
    "        print('Happy driving!')\n",
    "else:\n",
    "    print(\"You're not 18 years or older. Welcome to childhood\")"
   ]
  },
  {
   "cell_type": "markdown",
   "id": "b5178798",
   "metadata": {},
   "source": [
    "contoh 3:\n",
    "<blockquote> Anda adalah pemilik sebuah toko online yang menjual produk khusus. Hari ini, Anda menerima pesanan sebanyak 30 produk dari pelanggan Anda. Setelah memeriksa stok barang yang ada di gudang, Anda menemukan bahwa hanya ada 32 produk yang tersedia. Anda perlu membuat program untuk mengelola pesanan ini dengan syarat sebagai berikut: \n",
    "</blockquote>\n",
    "    <ol> \n",
    "        <li>Jika jumlah barang yang dipesan (barangDipesan) lebih besar atau sama dengan jumlah barang yang tersedia (barangTersedia), maka program akan memberikan rekomendasi untuk menambah persediaan. Cetak pesan \"Tambahan persediaan diperlukan. Stok hampir habis!\"\n",
    "        <li>Jika jumlah barang yang dipesan kurang dari jumlah barang yang tersedia, program akan menghitung berapa banyak paket yang diperlukan untuk memenuhi pesanan. 1 paket akan berisi 8 pesanan sekaligus. Jika jumlah paket (jumlahPaket) lebih dari 1, program akan memberikan rekomendasi untuk menggunakan beberapa paket. Cetak pesan \"Kita memerlukan beberapa paket untuk memenuhi pesanan ini!\"\n",
    "    </ol>"
   ]
  },
  {
   "cell_type": "code",
   "execution_count": 37,
   "id": "cb70053c",
   "metadata": {},
   "outputs": [
    {
     "name": "stdout",
     "output_type": "stream",
     "text": [
      "Mendapatkan pesanan sebanyak 16 barang. Tersedia di stok: 32\n",
      "Kita memerlukan 2 paket untuk memenuhi pesanan ini!\n"
     ]
    }
   ],
   "source": [
    "barangDipesan = 16\n",
    "barangTersedia = 32\n",
    "isiPaket = 8\n",
    "\n",
    "print(\"Mendapatkan pesanan sebanyak\", barangDipesan, \"barang. Tersedia di stok:\", barangTersedia)\n",
    "\n",
    "# Membandingkan jumlah pesanan dengan stok\n",
    "if barangDipesan >= barangTersedia:\n",
    "    print(\"Tambahan persediaan diperlukan. Stok hampir habis!\")\n",
    "else:\n",
    "    modulusPaket = barangDipesan % isiPaket\n",
    "    jumlahPaket = round(barangDipesan/isiPaket)\n",
    "    if isinstance(modulusPaket, int) and modulusPaket != 0:\n",
    "        print(f'Kita memerlukan {round(jumlahPaket) + 1} paket untuk memenuhi pesanan ini!')\n",
    "    elif isinstance(modulusPaket, int) and modulusPaket == 0:\n",
    "        print(f'Kita memerlukan {jumlahPaket} paket untuk memenuhi pesanan ini!')"
   ]
  },
  {
   "cell_type": "markdown",
   "id": "d387aa80",
   "metadata": {},
   "source": [
    "```python\n",
    "isinstance(object, type)\n",
    "```\n",
    "Fungsi isinstance() digunakan untuk memeriksa atau mengidentifikasi tipe data dari suatu objek, sehingga kita dapat melakukan tindakan yang sesuai berdasarkan jenis data objek tersebut."
   ]
  },
  {
   "cell_type": "markdown",
   "id": "962de0f0",
   "metadata": {},
   "source": [
    "## Perulangan (for) - Counted loop"
   ]
  },
  {
   "cell_type": "markdown",
   "id": "6887efc4",
   "metadata": {},
   "source": [
    "<blockquote> perulangan (for) biasanya digunakan untuk mengulangi kode yang sudah diketahui banyak perulangannya. </blockquote>"
   ]
  },
  {
   "cell_type": "markdown",
   "id": "14c15421",
   "metadata": {},
   "source": [
    "```python\n",
    "for <iterator> in <sequence_expression>:\n",
    "    <command_expression>\n",
    "```"
   ]
  },
  {
   "cell_type": "markdown",
   "id": "41c1a668",
   "metadata": {},
   "source": [
    "Penjelasan Mengenai Struktur For Diatas:\n",
    "\n",
    "<blockquote> iterator : Ini adalah variabel yang akan mengambil nilai dari setiap item dalam urutan selama setiap iterasi dari loop. Iterator ini didefinisikan oleh pemrogram dan bisa menjadi nama variabel yang valid.</blockquote>\n",
    "\n",
    "<blockquote> sequence_expression : Ini adalah ekspresi yang mendefinisikan urutan atau kumpulan item yang akan diiterasi oleh loop. Urutan ini bisa berupa list, array, string, range, atau struktur data lain yang mendukung iterasi.</blockquote>\n",
    "\n",
    "<blockquote> command_expression : Ini adalah kumpulan pernyataan atau perintah yang akan dieksekusi selama setiap iterasi dari loop. Kode yang ingin dijalankan selama iterasi tertentu harus ditulis di sini.</blockquote>\n",
    "\n",
    "Berikut adalah gambaran umum tentang bagaimana loop for bekerja:\n",
    "- Loop menginisialisasi iterator dengan item pertama dalam urutan.\n",
    "- Ia mengeksekusi pernyataan dalam <command_expression> untuk nilai saat ini dari iterator.\n",
    "- Iterator diperbarui ke item berikutnya dalam urutan.\n",
    "- Langkah 2 dan 3 diulangi sampai akhir urutan tercapai, pada titik ini loop berakhir."
   ]
  },
  {
   "attachments": {
    "Flowchart%20-%20Perulangan%20%28For%29.png": {
     "image/png": "[encoded data removed]"
    }
   },
   "cell_type": "markdown",
   "id": "41d12b07",
   "metadata": {},
   "source": [
    "<b>*Flowchart nya akan seperti ini*</b>\n",
    "![Flowchart%20-%20Perulangan%20%28For%29.png](attachment:Flowchart%20-%20Perulangan%20%28For%29.png)"
   ]
  },
  {
   "cell_type": "markdown",
   "id": "3bdb6445",
   "metadata": {},
   "source": [
    "### Iterating a Specific Number of Times:"
   ]
  },
  {
   "cell_type": "code",
   "execution_count": 87,
   "id": "9bbf2104",
   "metadata": {},
   "outputs": [
    {
     "name": "stdout",
     "output_type": "stream",
     "text": [
      "ini perulangan ke 200\n",
      "ini perulangan ke 198\n",
      "ini perulangan ke 196\n",
      "ini perulangan ke 194\n",
      "ini perulangan ke 192\n",
      "ini perulangan ke 190\n",
      "ini perulangan ke 188\n",
      "ini perulangan ke 186\n",
      "ini perulangan ke 184\n",
      "ini perulangan ke 182\n",
      "ini perulangan ke 180\n",
      "ini perulangan ke 178\n",
      "ini perulangan ke 176\n",
      "ini perulangan ke 174\n",
      "ini perulangan ke 172\n",
      "ini perulangan ke 170\n",
      "ini perulangan ke 168\n",
      "ini perulangan ke 166\n",
      "ini perulangan ke 164\n",
      "ini perulangan ke 162\n",
      "ini perulangan ke 160\n",
      "ini perulangan ke 158\n",
      "ini perulangan ke 156\n",
      "ini perulangan ke 154\n",
      "ini perulangan ke 152\n",
      "ini perulangan ke 150\n",
      "ini perulangan ke 148\n",
      "ini perulangan ke 146\n",
      "ini perulangan ke 144\n",
      "ini perulangan ke 142\n",
      "ini perulangan ke 140\n",
      "ini perulangan ke 138\n",
      "ini perulangan ke 136\n",
      "ini perulangan ke 134\n",
      "ini perulangan ke 132\n",
      "ini perulangan ke 130\n",
      "ini perulangan ke 128\n",
      "ini perulangan ke 126\n",
      "ini perulangan ke 124\n",
      "ini perulangan ke 122\n",
      "ini perulangan ke 120\n",
      "ini perulangan ke 118\n",
      "ini perulangan ke 116\n",
      "ini perulangan ke 114\n",
      "ini perulangan ke 112\n",
      "ini perulangan ke 110\n",
      "ini perulangan ke 108\n",
      "ini perulangan ke 106\n",
      "ini perulangan ke 104\n",
      "ini perulangan ke 102\n",
      "ini perulangan ke 100\n",
      "ini perulangan ke 98\n",
      "ini perulangan ke 96\n",
      "ini perulangan ke 94\n",
      "ini perulangan ke 92\n",
      "ini perulangan ke 90\n",
      "ini perulangan ke 88\n",
      "ini perulangan ke 86\n",
      "ini perulangan ke 84\n",
      "ini perulangan ke 82\n",
      "ini perulangan ke 80\n",
      "ini perulangan ke 78\n",
      "ini perulangan ke 76\n",
      "ini perulangan ke 74\n",
      "ini perulangan ke 72\n",
      "ini perulangan ke 70\n",
      "ini perulangan ke 68\n",
      "ini perulangan ke 66\n",
      "ini perulangan ke 64\n",
      "ini perulangan ke 62\n",
      "ini perulangan ke 60\n",
      "ini perulangan ke 58\n",
      "ini perulangan ke 56\n",
      "ini perulangan ke 54\n",
      "ini perulangan ke 52\n",
      "ini perulangan ke 50\n",
      "ini perulangan ke 48\n",
      "ini perulangan ke 46\n",
      "ini perulangan ke 44\n",
      "ini perulangan ke 42\n",
      "ini perulangan ke 40\n",
      "ini perulangan ke 38\n",
      "ini perulangan ke 36\n",
      "ini perulangan ke 34\n",
      "ini perulangan ke 32\n",
      "ini perulangan ke 30\n",
      "ini perulangan ke 28\n",
      "ini perulangan ke 26\n",
      "ini perulangan ke 24\n",
      "ini perulangan ke 22\n",
      "ini perulangan ke 20\n",
      "ini perulangan ke 18\n",
      "ini perulangan ke 16\n",
      "ini perulangan ke 14\n",
      "ini perulangan ke 12\n",
      "ini perulangan ke 10\n",
      "ini perulangan ke 8\n",
      "ini perulangan ke 6\n",
      "ini perulangan ke 4\n",
      "ini perulangan ke 2\n"
     ]
    }
   ],
   "source": [
    "for i in range(200, 0,-2):\n",
    "    print(f\"ini perulangan ke {i}\")"
   ]
  },
  {
   "cell_type": "markdown",
   "id": "fe884010",
   "metadata": {},
   "source": [
    "### Iterating Through Elements in a List or Array:"
   ]
  },
  {
   "cell_type": "code",
   "execution_count": 30,
   "id": "054a764f",
   "metadata": {},
   "outputs": [
    {
     "name": "stdout",
     "output_type": "stream",
     "text": [
      "Saya Suka Makan apple\n",
      "Saya Suka Makan banana\n",
      "Saya Suka Makan cherry\n"
     ]
    }
   ],
   "source": [
    "fruits = [\"apple\", \"banana\", \"cherry\"]\n",
    "for fruit in fruits:\n",
    "    print(f'Saya Suka Makan {fruit}')"
   ]
  },
  {
   "cell_type": "code",
   "execution_count": 18,
   "id": "f01ede7f",
   "metadata": {},
   "outputs": [
    {
     "name": "stdout",
     "output_type": "stream",
     "text": [
      "apple\n",
      "banana\n",
      "cherry\n"
     ]
    }
   ],
   "source": [
    "fruits = [\"apple\", \"banana\", \"cherry\"]\n",
    "for i in range(3):\n",
    "    print(fruits[i])"
   ]
  },
  {
   "cell_type": "markdown",
   "id": "6be62170",
   "metadata": {},
   "source": [
    "### Iterating Through Characters in a String:"
   ]
  },
  {
   "cell_type": "code",
   "execution_count": 80,
   "id": "0d6e3472",
   "metadata": {},
   "outputs": [
    {
     "name": "stdout",
     "output_type": "stream",
     "text": [
      "Hello"
     ]
    }
   ],
   "source": [
    "word = \"Hello\"\n",
    "for char in word:\n",
    "    print(char, end=\"\")"
   ]
  },
  {
   "cell_type": "markdown",
   "id": "2ac8e713",
   "metadata": {},
   "source": [
    "### Penggunaan Lainnya "
   ]
  },
  {
   "cell_type": "code",
   "execution_count": 27,
   "id": "54280d28",
   "metadata": {},
   "outputs": [
    {
     "name": "stdout",
     "output_type": "stream",
     "text": [
      "5 x 1 = 5\n",
      "5 x 2 = 10\n",
      "5 x 3 = 15\n",
      "5 x 4 = 20\n",
      "5 x 5 = 25\n"
     ]
    }
   ],
   "source": [
    "angka = 5\n",
    "for i in range(1, 6):\n",
    "    print(angka, 'x', i, '=', angka*i)"
   ]
  },
  {
   "cell_type": "markdown",
   "id": "6b5dd24c",
   "metadata": {},
   "source": [
    "## Perulangan (While) - Uncounted loop"
   ]
  },
  {
   "cell_type": "markdown",
   "id": "1410f4e9",
   "metadata": {},
   "source": [
    "<blockquote> Statement while sangat berkaitan dengan variabel boolean, atau logical statement. Karena penentuan kapan suatu blok kode akan diulang-ulang ditinjau dari True or False dari suatu pernyataan logika. </blockquote>\n",
    "\n",
    "***Sehingga jika suatu kondisi itu selalu benar, maka perulangannya pun akan selalu di eksekusi.***"
   ]
  },
  {
   "cell_type": "markdown",
   "id": "0ec805fc",
   "metadata": {},
   "source": [
    "```python\n",
    "while <kondisi>:\n",
    "  # blok kode yang akan diulang-ulang\n",
    "```"
   ]
  },
  {
   "cell_type": "markdown",
   "id": "5a8caf17",
   "metadata": {},
   "source": [
    "### Infinity Loop"
   ]
  },
  {
   "cell_type": "code",
   "execution_count": null,
   "id": "ea1e280b",
   "metadata": {},
   "outputs": [],
   "source": [
    "while (1 + 2 == 3):\n",
    "    print('Halo dunia!')"
   ]
  },
  {
   "cell_type": "markdown",
   "id": "13a11d87",
   "metadata": {},
   "source": [
    "### Limited Loop"
   ]
  },
  {
   "cell_type": "markdown",
   "id": "28817b3f",
   "metadata": {},
   "source": [
    "contoh 1:\n",
    "<blockquote> Menampilkan angka urut dari 1 sampai 5 dengan While </blockquote>"
   ]
  },
  {
   "cell_type": "code",
   "execution_count": 34,
   "id": "21ceb820",
   "metadata": {
    "scrolled": true
   },
   "outputs": [
    {
     "name": "stdout",
     "output_type": "stream",
     "text": [
      "1\n",
      "2\n",
      "3\n",
      "4\n",
      "5\n"
     ]
    }
   ],
   "source": [
    "i = 1\n",
    "\n",
    "while i <= 5:\n",
    "    print(i)\n",
    "    i += 1"
   ]
  },
  {
   "cell_type": "markdown",
   "id": "5e8bc3f5",
   "metadata": {},
   "source": [
    "contoh 2:\n",
    "<blockquote> menampilkan angka kelipatan 3 dari 1 sampai 100 </blockquote>"
   ]
  },
  {
   "cell_type": "code",
   "execution_count": 35,
   "id": "0c323cf4",
   "metadata": {
    "scrolled": true
   },
   "outputs": [
    {
     "name": "stdout",
     "output_type": "stream",
     "text": [
      "3\n",
      "6\n",
      "9\n",
      "12\n",
      "15\n",
      "18\n",
      "21\n",
      "24\n",
      "27\n",
      "30\n",
      "33\n",
      "36\n",
      "39\n",
      "42\n",
      "45\n",
      "48\n",
      "51\n",
      "54\n",
      "57\n",
      "60\n",
      "63\n",
      "66\n",
      "69\n",
      "72\n",
      "75\n",
      "78\n",
      "81\n",
      "84\n",
      "87\n",
      "90\n",
      "93\n",
      "96\n",
      "99\n"
     ]
    }
   ],
   "source": [
    "i = 3\n",
    "while i < 100:\n",
    "    print(i)\n",
    "    i = i + 3"
   ]
  },
  {
   "cell_type": "markdown",
   "id": "0632a25f",
   "metadata": {},
   "source": [
    "contoh 3:\n",
    "<blockquote> meminta user untuk memasukkan angka ganjil lebih dari 50 dan stop apabila inputan benar. Jika user justru memasukkan nilai genap atau nilai yang kurang dari 50, maka sistem akan meminta user untuk menginputkan kembali. </blockquote>"
   ]
  },
  {
   "cell_type": "code",
   "execution_count": 88,
   "id": "dccc81dd",
   "metadata": {},
   "outputs": [
    {
     "name": "stdout",
     "output_type": "stream",
     "text": [
      "Masukkan bilangan ganjil lebih dari 50: 10\n",
      "Salah, masukkan lagi: 51\n",
      "Benar\n"
     ]
    }
   ],
   "source": [
    "a = int(input('Masukkan bilangan ganjil lebih dari 50: '))\n",
    "\n",
    "# while a % 2 == 1 or a > 50:\n",
    "#     a = int(input('Benar, masukkan lagi: '))\n",
    "\n",
    "while a % 2 != 1 or a <= 50:\n",
    "    a = int(input('Salah, masukkan lagi: '))\n",
    "\n",
    "print('Benar')"
   ]
  },
  {
   "cell_type": "markdown",
   "id": "8d419a15",
   "metadata": {},
   "source": [
    "---"
   ]
  },
  {
   "cell_type": "markdown",
   "id": "e9261083",
   "metadata": {},
   "source": [
    "# Latihan Soal"
   ]
  },
  {
   "cell_type": "markdown",
   "id": "a079ddc2",
   "metadata": {},
   "source": [
    "## Bagian 1"
   ]
  },
  {
   "cell_type": "markdown",
   "id": "c19da893",
   "metadata": {},
   "source": [
    "1. Buatlah program yang mencetak angka ganjil dan genap dari 1 hingga 100."
   ]
  },
  {
   "cell_type": "markdown",
   "id": "520018cc",
   "metadata": {},
   "source": [
    "2. Buatlah program untuk Menghitung hasil penjumlahan dari 0 hingga 100"
   ]
  },
  {
   "cell_type": "markdown",
   "id": "ce275564",
   "metadata": {},
   "source": [
    "## Bagian 2"
   ]
  },
  {
   "cell_type": "markdown",
   "id": "a4e8426e",
   "metadata": {},
   "source": [
    "1. Jumlah 4 buah bilangan kuadrat pertama adalah 30 (1+4+9+16=30), berapakah jumlah 1000 bilangan kuadrat pertama?\n",
    "2. Hasil penjumlahan bilangan asli di bawah 10 yang merupakan kelipatan 3 atau 5 adalah 23 (jumlah dari 3+5+6+9), hitunglah hasil penjumlahan bilangan asli kelipatan 10 atau 7 di bawah 2500."
   ]
  },
  {
   "cell_type": "markdown",
   "id": "387d49c0",
   "metadata": {},
   "source": [
    "## Bagian 3"
   ]
  },
  {
   "cell_type": "markdown",
   "id": "ba7b516c",
   "metadata": {},
   "source": [
    "1. Setiap suku pada deret fibonacci dibentuk dari menjumlahkan dua nilai suku sebelumnya, dengan nilai suku pertama dan kedua adalah 1 dan 2. Sepuluh suku pertama pada deret ini adalah: 1, 2, 3, 5, 8, 13, 21, 34, 55, 89. buatkan 100 kali."
   ]
  }
 ],
 "metadata": {
  "kernelspec": {
   "display_name": "Python 3 (ipykernel)",
   "language": "python",
   "name": "python3"
  },
  "language_info": {
   "codemirror_mode": {
    "name": "ipython",
    "version": 3
   },
   "file_extension": ".py",
   "mimetype": "text/x-python",
   "name": "python",
   "nbconvert_exporter": "python",
   "pygments_lexer": "ipython3",
   "version": "3.11.4"
  },
  "toc": {
   "base_numbering": 1,
   "nav_menu": {},
   "number_sections": true,
   "sideBar": true,
   "skip_h1_title": false,
   "title_cell": "Table of Contents",
   "title_sidebar": "Contents",
   "toc_cell": false,
   "toc_position": {
    "height": "calc(100% - 180px)",
    "left": "10px",
    "top": "150px",
    "width": "167.233px"
   },
   "toc_section_display": true,
   "toc_window_display": false
  }
 },
 "nbformat": 4,
 "nbformat_minor": 5
}
