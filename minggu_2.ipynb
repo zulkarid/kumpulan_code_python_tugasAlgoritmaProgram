{
 "cells": [
  {
   "cell_type": "code",
   "execution_count": null,
   "id": "617e44a5",
   "metadata": {},
   "outputs": [],
   "source": [
    "#Penjumlahan Sederhana\n",
    "\n",
    "# Input bilangan dari user\n",
    "bilangan1 = float(input(\"Masukkan bilangan pertama: \"))\n",
    "bilangan2 = float(input(\"Masukkan bilangan kedua: \"))\n",
    "\n",
    "# Hitung penjumlahan\n",
    "hasil = bilangan1 + bilangan2\n",
    "\n",
    "# Cetak hasil\n",
    "print(\"Hasil penjumlahan:\", hasil)\n"
   ]
  },
  {
   "cell_type": "code",
   "execution_count": null,
   "id": "d8baa4f2",
   "metadata": {},
   "outputs": [],
   "source": [
    "#perpangkatan\n",
    "\n",
    "# Input basis dan eksponen dari user\n",
    "basis = float(input(\"Masukkan basis: \"))\n",
    "eksponen = float(input(\"Masukkan eksponen: \"))\n",
    "\n",
    "# Hitung hasil pangkat\n",
    "hasil = basis ** eksponen\n",
    "\n",
    "# Cetak hasil\n",
    "print(\"Hasil pangkat:\", hasil)"
   ]
  },
  {
   "cell_type": "code",
   "execution_count": null,
   "id": "eddcbed3",
   "metadata": {},
   "outputs": [],
   "source": [
    "# Menghitung Sisa Bagi\n",
    "\n",
    "# Input bilangan dari user\n",
    "bilangan1 = int(input(\"Masukkan bilangan pertama (integer): \"))\n",
    "bilangan2 = int(input(\"Masukkan bilangan kedua (integer): \"))\n",
    "\n",
    "# Hitung sisa bagi\n",
    "hasil = bilangan1 % bilangan2\n",
    "\n",
    "# Cetak hasil\n",
    "print(\"Sisa bagi:\", hasil)\n"
   ]
  },
  {
   "cell_type": "code",
   "execution_count": null,
   "id": "6a47cdb2",
   "metadata": {},
   "outputs": [],
   "source": [
    "# Menghitung Akar Kuadrat\n",
    "\n",
    "import math\n",
    "\n",
    "# Input bilangan dari user\n",
    "bilangan = float(input(\"Masukkan bilangan: \"))\n",
    "\n",
    "# Hitung akar kuadrat\n",
    "hasil = math.sqrt(bilangan)\n",
    "\n",
    "# Cetak hasil\n",
    "print(\"Akar kuadrat:\", hasil)\n"
   ]
  },
  {
   "cell_type": "code",
   "execution_count": null,
   "id": "21260eb0",
   "metadata": {},
   "outputs": [],
   "source": [
    "#Menghitung Luas Segitiga\n",
    "\n",
    "# Input tinggi dan alas segitiga dari user\n",
    "tinggi = float(input(\"Masukkan tinggi segitiga: \"))\n",
    "alas = float(input(\"Masukkan alas segitiga: \"))\n",
    "\n",
    "# Hitung luas segitiga\n",
    "luas = 0.5 * tinggi * alas\n",
    "\n",
    "# Cetak hasil\n",
    "print(\"Luas segitiga:\", luas)\n"
   ]
  },
  {
   "cell_type": "code",
   "execution_count": null,
   "id": "e1196cdd",
   "metadata": {},
   "outputs": [],
   "source": [
    "# menkonversi satuan pangjang\n",
    "\n",
    "# Input panjang dalam meter dari user\n",
    "panjang_meter = float(input(\"Masukkan panjang dalam meter: \"))\n",
    "\n",
    "# Konversi panjang ke kilometer dan sentimeter\n",
    "panjang_kilometer = panjang_meter / 1000\n",
    "panjang_sentimeter = panjang_meter * 100\n",
    "\n",
    "# Cetak hasil\n",
    "print(\"Panjang dalam kilometer:\", panjang_kilometer)\n",
    "print(\"Panjang dalam sentimeter:\", panjang_sentimeter)\n"
   ]
  },
  {
   "cell_type": "code",
   "execution_count": null,
   "id": "d7103f18",
   "metadata": {},
   "outputs": [
    {
     "name": "stdout",
     "output_type": "stream",
     "text": [
      "Masukkan bilangan bulat positif: 5\n",
      "Faktorial dari 5 adalah 120\n"
     ]
    }
   ],
   "source": [
    "#menghitung bilangan faktorial\n",
    "\n",
    "# Input bilangan bulat positif dari user\n",
    "n = int(input(\"Masukkan bilangan bulat positif: \"))\n",
    "\n",
    "# Inisialisasi hasil dengan nilai awal 1\n",
    "hasil = 1\n",
    "\n",
    "# Hitung faktorial\n",
    "for i in range(1, n + 1):\n",
    "    hasil *= i\n",
    "\n",
    "# Cetak hasil\n",
    "print(f\"Faktorial dari {n} adalah {hasil}\")\n"
   ]
  },
  {
   "cell_type": "code",
   "execution_count": null,
   "id": "5b761bae",
   "metadata": {},
   "outputs": [],
   "source": []
  }
 ],
 "metadata": {
  "kernelspec": {
   "display_name": "Python 3",
   "language": "python",
   "name": "python3"
  },
  "language_info": {
   "codemirror_mode": {
    "name": "ipython",
    "version": 3
   },
   "file_extension": ".py",
   "mimetype": "text/x-python",
   "name": "python",
   "nbconvert_exporter": "python",
   "pygments_lexer": "ipython3",
   "version": "3.13.0"
  },
  "toc": {
   "base_numbering": 1,
   "nav_menu": {},
   "number_sections": false,
   "sideBar": true,
   "skip_h1_title": false,
   "title_cell": "Table of Contents",
   "title_sidebar": "Contents",
   "toc_cell": false,
   "toc_position": {
    "height": "calc(100% - 180px)",
    "left": "10px",
    "top": "150px",
    "width": "165px"
   },
   "toc_section_display": true,
   "toc_window_display": true
  }
 },
 "nbformat": 4,
 "nbformat_minor": 5
}
