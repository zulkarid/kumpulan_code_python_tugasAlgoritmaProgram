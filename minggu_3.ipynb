{
 "cells": [
  {
   "cell_type": "markdown",
   "id": "74cf1d1f",
   "metadata": {},
   "source": [
    "## Percabangan \"If\""
   ]
  },
  {
   "cell_type": "code",
   "execution_count": null,
   "id": "434f6d68",
   "metadata": {},
   "outputs": [
    {
     "name": "stdout",
     "output_type": "stream",
     "text": [
      "Anda sudah dewasa.\n"
     ]
    }
   ],
   "source": [
    "umur = 20\n",
    "if umur >= 18:\n",
    "    print(\"Anda sudah dewasa.\")"
   ]
  },
  {
   "cell_type": "code",
   "execution_count": 21,
   "id": "7433051a",
   "metadata": {},
   "outputs": [
    {
     "name": "stdout",
     "output_type": "stream",
     "text": [
      "File ini contoh.txt ditemukan.\n"
     ]
    }
   ],
   "source": [
    "import os\n",
    "\n",
    "file_name = \"ini contoh.txt\"\n",
    "\n",
    "if os.path.exists(file_name):\n",
    "    print(f\"File {file_name} ditemukan.\")"
   ]
  },
  {
   "cell_type": "markdown",
   "id": "c37575fd",
   "metadata": {},
   "source": [
    "## Percabangan \"If-Else\""
   ]
  },
  {
   "cell_type": "code",
   "execution_count": null,
   "id": "31e5deea",
   "metadata": {},
   "outputs": [
    {
     "name": "stdout",
     "output_type": "stream",
     "text": [
      "Anda lulus.\n"
     ]
    }
   ],
   "source": [
    "nilai = 70\n",
    "if nilai >= 60:\n",
    "    print(\"Anda lulus.\")\n",
    "else:\n",
    "    print(\"Anda belum lulus.\")"
   ]
  },
  {
   "cell_type": "code",
   "execution_count": 23,
   "id": "de0e8b4f",
   "metadata": {},
   "outputs": [
    {
     "name": "stdout",
     "output_type": "stream",
     "text": [
      "Anda bukan admin.\n"
     ]
    }
   ],
   "source": [
    "role = \"user\"\n",
    "\n",
    "if role == \"admin\":\n",
    "    print(\"Anda memiliki akses admin.\")\n",
    "else:\n",
    "    print(\"Anda bukan admin.\")"
   ]
  },
  {
   "cell_type": "markdown",
   "id": "e8307ed0",
   "metadata": {},
   "source": [
    "## Percabangan \"If-Elif-Else\""
   ]
  },
  {
   "cell_type": "code",
   "execution_count": 24,
   "id": "aa076495",
   "metadata": {},
   "outputs": [
    {
     "name": "stdout",
     "output_type": "stream",
     "text": [
      "C\n"
     ]
    }
   ],
   "source": [
    "nilai = 75\n",
    "if nilai >= 90:\n",
    "    print(\"A\")\n",
    "elif nilai >= 80:\n",
    "    print(\"B\")\n",
    "elif nilai >= 70:\n",
    "    print(\"C\")\n",
    "else:\n",
    "    print(\"D\")"
   ]
  },
  {
   "cell_type": "code",
   "execution_count": 25,
   "id": "bbe43e10",
   "metadata": {},
   "outputs": [
    {
     "name": "stdout",
     "output_type": "stream",
     "text": [
      "Ini adalah hari Jumat.\n"
     ]
    }
   ],
   "source": [
    "nomor_hari = 5\n",
    "\n",
    "if nomor_hari == 1:\n",
    "    print(\"Ini adalah hari Senin.\")\n",
    "elif nomor_hari == 2:\n",
    "    print(\"Ini adalah hari Selasa.\")\n",
    "elif nomor_hari == 3:\n",
    "    print(\"Ini adalah hari Rabu.\")\n",
    "elif nomor_hari == 4:\n",
    "    print(\"Ini adalah hari Kamis.\")\n",
    "elif nomor_hari == 5:\n",
    "    print(\"Ini adalah hari Jumat.\")\n",
    "else:\n",
    "    print(\"Ini adalah hari akhir pekan.\")"
   ]
  },
  {
   "cell_type": "markdown",
   "id": "e4429d21",
   "metadata": {},
   "source": [
    "## Percabangan Bersarang "
   ]
  },
  {
   "cell_type": "code",
   "execution_count": 26,
   "id": "053a1a92",
   "metadata": {},
   "outputs": [
    {
     "name": "stdout",
     "output_type": "stream",
     "text": [
      "Masukkan bilangan: 10\n",
      "Bilangan positif dan genap\n"
     ]
    }
   ],
   "source": [
    "# Menentukan apakah bilangan positif, negatif, atau nol, dan apakah bilangan tersebut merupakan bilangan genap atau ganjil\n",
    "\n",
    "bil = float(input(\"Masukkan bilangan: \"))\n",
    "\n",
    "if bil > 0:\n",
    "    # Bilangan positif\n",
    "    if bil % 2 == 0:\n",
    "        print(\"Bilangan positif dan genap\")\n",
    "    else:\n",
    "        print(\"Bilangan positif dan ganjil\")\n",
    "elif bil < 0:\n",
    "    # Bilangan negatif\n",
    "    print(\"Bilangan negatif\")\n",
    "else:\n",
    "    # Bilangan nol\n",
    "    print(\"Bilangan nol\")"
   ]
  }
 ],
 "metadata": {
  "kernelspec": {
   "display_name": "Python 3 (ipykernel)",
   "language": "python",
   "name": "python3"
  },
  "language_info": {
   "codemirror_mode": {
    "name": "ipython",
    "version": 3
   },
   "file_extension": ".py",
   "mimetype": "text/x-python",
   "name": "python",
   "nbconvert_exporter": "python",
   "pygments_lexer": "ipython3",
   "version": "3.11.4"
  },
  "toc": {
   "base_numbering": 1,
   "nav_menu": {},
   "number_sections": false,
   "sideBar": true,
   "skip_h1_title": false,
   "title_cell": "Table of Contents",
   "title_sidebar": "Contents",
   "toc_cell": false,
   "toc_position": {
    "height": "calc(100% - 180px)",
    "left": "10px",
    "top": "150px",
    "width": "234.6px"
   },
   "toc_section_display": true,
   "toc_window_display": false
  }
 },
 "nbformat": 4,
 "nbformat_minor": 5
}
