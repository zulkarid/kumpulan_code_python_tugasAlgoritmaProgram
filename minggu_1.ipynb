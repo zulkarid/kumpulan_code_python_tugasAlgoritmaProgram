{
 "cells": [
  {
   "cell_type": "code",
   "execution_count": null,
   "metadata": {},
   "outputs": [
    {
     "name": "stdout",
     "output_type": "stream",
     "text": [
      "hello world\n"
     ]
    }
   ],
   "source": [
    "#penggunaan print di python\n",
    "\n",
    "print(\"hello world\")"
   ]
  },
  {
   "cell_type": "code",
   "execution_count": null,
   "metadata": {},
   "outputs": [
    {
     "name": "stdout",
     "output_type": "stream",
     "text": [
      "penggunaan komentar atau # tidak memberikan output apapun\n"
     ]
    }
   ],
   "source": [
    "#penggunaan komentar di python\n",
    "\n",
    "#gunakan \"#\" untuk memberikan komentar\"\n",
    "print(\"penggunaan komentar atau # tidak memberikan output apapun\")"
   ]
  },
  {
   "cell_type": "code",
   "execution_count": null,
   "metadata": {},
   "outputs": [],
   "source": [
    "#penggunaan variable\n",
    "nama = rayhan\n",
    "usia = 18\n",
    "asal = semarang\n"
   ]
  },
  {
   "cell_type": "code",
   "execution_count": 10,
   "metadata": {},
   "outputs": [
    {
     "name": "stdout",
     "output_type": "stream",
     "text": [
      "Nama: Rayhan dan Umur: 18\n",
      "Nama: Rayhan dan Umur: 18\n",
      "\n",
      "\n",
      "Rayhan dan Zulkar\n"
     ]
    }
   ],
   "source": [
    "#Tipe data\n",
    "bilangan_bulat = 10\n",
    "bilangan_desimal = 3.14\n",
    "teks = \"Hello, world!\"\n",
    "teks_multibaris = \"Rayhan dan Zulkar\"\n",
    "boolean = True\n",
    "\n",
    "#Menambahkan Nama dan umur\n",
    "nama = \"Rayhan\"\n",
    "umur = 18 \n",
    "\n",
    "#Menampilkan nilai variabel\n",
    "print('Nama:', nama, 'dan Umur:', umur)\n",
    "print(f\"Nama: {nama} dan Umur: {umur}\")\n",
    "print('\\n')\n",
    "print(teks_multibaris)\n"
   ]
  },
  {
   "cell_type": "code",
   "execution_count": 11,
   "metadata": {},
   "outputs": [
    {
     "name": "stdout",
     "output_type": "stream",
     "text": [
      "Nama saya Rayhan dan Umur saya adalah 18 Tahun dan sedang Berkuliah di Universitas Telkom Surabaya\n"
     ]
    }
   ],
   "source": [
    "#Variabel Multistatement\n",
    "nama = \"Rayhan\"\n",
    "a = 10; b = 8\n",
    "kesibukan, keterangan = 'Berkuliah','Universitas Telkom Surabaya'\n",
    "\n",
    "print(f\"Nama saya {nama} dan Umur saya adalah {a+b} Tahun dan sedang {kesibukan} di {keterangan}\")"
   ]
  },
  {
   "cell_type": "code",
   "execution_count": null,
   "metadata": {},
   "outputs": [],
   "source": [
    "#input dari user\n",
    "nama = input(\"masukkan nama\")\n",
    "umur = input(\"masukkan umurmu\")\n",
    "\n",
    "print = print(f\"halo perkenalkan nama saya {nama} dan umur saya {umur}\")"
   ]
  },
  {
   "cell_type": "code",
   "execution_count": null,
   "metadata": {},
   "outputs": [],
   "source": [
    "#percabangan\n",
    "nilai = int(input(\"Masukkan nilaimu: \"))\n",
    "\n",
    "if nilai >= 70:\n",
    "    print(\" Lulus\")\n",
    "elif nilai == 20:\n",
    "    print('rata - rata')\n",
    "else:\n",
    "    print(\"tidak lulus\")"
   ]
  },
  {
   "cell_type": "code",
   "execution_count": null,
   "metadata": {},
   "outputs": [],
   "source": [
    "#looping\n",
    "for i in range (1,30, 2):\n",
    "    print(i)\n"
   ]
  }
 ],
 "metadata": {
  "kernelspec": {
   "display_name": "Python 3",
   "language": "python",
   "name": "python3"
  },
  "language_info": {
   "codemirror_mode": {
    "name": "ipython",
    "version": 3
   },
   "file_extension": ".py",
   "mimetype": "text/x-python",
   "name": "python",
   "nbconvert_exporter": "python",
   "pygments_lexer": "ipython3",
   "version": "3.13.0"
  }
 },
 "nbformat": 4,
 "nbformat_minor": 2
}
